{
  "nbformat": 4,
  "nbformat_minor": 0,
  "metadata": {
    "colab": {
      "provenance": []
    },
    "kernelspec": {
      "name": "python3",
      "display_name": "Python 3"
    },
    "language_info": {
      "name": "python"
    }
  },
  "cells": [
    {
      "cell_type": "code",
      "execution_count": 1,
      "metadata": {
        "colab": {
          "base_uri": "https://localhost:8080/"
        },
        "id": "iDMGszv9LgXG",
        "outputId": "3223336d-de8b-46da-ca8d-0f1d993aa7ca"
      },
      "outputs": [
        {
          "output_type": "stream",
          "name": "stdout",
          "text": [
            "Total Unique [id] = 181672\n",
            "Total Unique [item_date] = 253\n",
            "Total Unique [quantity tons] = 181673\n",
            "Total Unique [customer] = 1170\n",
            "Total Unique [country] = 18\n",
            "Total Unique [status] = 10\n",
            "Total Unique [item type] = 7\n",
            "Total Unique [application] = 31\n",
            "Total Unique [thickness] = 595\n",
            "Total Unique [width] = 1386\n",
            "Total Unique [material_ref] = 16564\n",
            "Total Unique [product_ref] = 33\n",
            "Total Unique [delivery date] = 29\n",
            "Total Unique [selling_price] = 9796\n",
            "DataFrame size (181673, 14)\n"
          ]
        }
      ],
      "source": [
        "import matplotlib.pyplot as plt\n",
        "import pandas as pd\n",
        "import numpy as np\n",
        "import warnings\n",
        "from sklearn.compose import ColumnTransformer\n",
        "from sklearn.preprocessing import OneHotEncoder\n",
        "from sklearn.preprocessing import StandardScaler\n",
        "\n",
        "warnings.filterwarnings(\"ignore\")\n",
        "\n",
        "raw_data=pd.read_csv(\"Copper_Set.csv\")\n",
        "cols=raw_data.columns\n",
        "\n",
        "for col in cols:\n",
        "    print('Total Unique ['+ col + '] = ' + str(len(raw_data[col].unique())))\n",
        "\n",
        "print('DataFrame size' , (raw_data.shape))"
      ]
    },
    {
      "cell_type": "code",
      "source": [
        "raw_data.isnull().sum()"
      ],
      "metadata": {
        "colab": {
          "base_uri": "https://localhost:8080/"
        },
        "id": "Lt0OB5B6L17v",
        "outputId": "e9386bb2-7430-40e1-db80-e147c8f71a79"
      },
      "execution_count": 2,
      "outputs": [
        {
          "output_type": "execute_result",
          "data": {
            "text/plain": [
              "id                   2\n",
              "item_date            1\n",
              "quantity tons        0\n",
              "customer             1\n",
              "country             28\n",
              "status               2\n",
              "item type            0\n",
              "application         24\n",
              "thickness            1\n",
              "width                0\n",
              "material_ref     77919\n",
              "product_ref          0\n",
              "delivery date        1\n",
              "selling_price        1\n",
              "dtype: int64"
            ]
          },
          "metadata": {},
          "execution_count": 2
        }
      ]
    },
    {
      "cell_type": "code",
      "source": [
        "filtered_data=raw_data[\n",
        "    raw_data['id'].notnull() &\n",
        "    raw_data['thickness'].notnull() &\n",
        "    raw_data['status'].notnull() &\n",
        "    raw_data['item_date'].notnull() &\n",
        "    raw_data['customer'].notnull() &\n",
        "    raw_data['country'].notnull() &\n",
        "    raw_data['application'].notnull() &\n",
        "    raw_data['delivery date'].notnull() &\n",
        "    raw_data['selling_price'].notnull()\n",
        "    ]"
      ],
      "metadata": {
        "id": "Gt5_61m_TdtV"
      },
      "execution_count": 3,
      "outputs": []
    },
    {
      "cell_type": "code",
      "source": [
        "filtered_data.isnull().sum()"
      ],
      "metadata": {
        "colab": {
          "base_uri": "https://localhost:8080/"
        },
        "id": "W3wgv2wOUKqI",
        "outputId": "c93ec120-ce46-407e-ea21-829f1fa8b9e1"
      },
      "execution_count": 4,
      "outputs": [
        {
          "output_type": "execute_result",
          "data": {
            "text/plain": [
              "id                   0\n",
              "item_date            0\n",
              "quantity tons        0\n",
              "customer             0\n",
              "country              0\n",
              "status               0\n",
              "item type            0\n",
              "application          0\n",
              "thickness            0\n",
              "width                0\n",
              "material_ref     77886\n",
              "product_ref          0\n",
              "delivery date        0\n",
              "selling_price        0\n",
              "dtype: int64"
            ]
          },
          "metadata": {},
          "execution_count": 4
        }
      ]
    },
    {
      "cell_type": "code",
      "source": [
        "filtered_data['item_date'] = filtered_data['item_date'].astype(int)\n",
        "filtered_data['item_date'] = pd.to_datetime(filtered_data['item_date'], format='%Y%m%d', errors='coerce').dt.date\n",
        "filtered_data['quantity tons'] = pd.to_numeric(filtered_data['quantity tons'], errors='coerce')\n",
        "filtered_data['delivery date'] = pd.to_datetime(filtered_data['delivery date'], format='%Y%m%d', errors='coerce').dt.date\n",
        "\n",
        "def replace_with_null(value):\n",
        "    if isinstance(value,str) and value.startswith('0000'):\n",
        "        return pd.NA\n",
        "    return value\n",
        "\n",
        "filtered_data['material_ref'] = filtered_data['material_ref'].apply(replace_with_null)"
      ],
      "metadata": {
        "id": "yjTF4Mnz5obd"
      },
      "execution_count": 5,
      "outputs": []
    },
    {
      "cell_type": "code",
      "source": [
        "filtered_data.info()"
      ],
      "metadata": {
        "colab": {
          "base_uri": "https://localhost:8080/"
        },
        "id": "8tHGYv7W-2IY",
        "outputId": "0354dac0-58c6-4bfb-f716-6d6a1f77e5d7"
      },
      "execution_count": 6,
      "outputs": [
        {
          "output_type": "stream",
          "name": "stdout",
          "text": [
            "<class 'pandas.core.frame.DataFrame'>\n",
            "Int64Index: 181636 entries, 0 to 181672\n",
            "Data columns (total 14 columns):\n",
            " #   Column         Non-Null Count   Dtype  \n",
            "---  ------         --------------   -----  \n",
            " 0   id             181636 non-null  object \n",
            " 1   item_date      181634 non-null  object \n",
            " 2   quantity tons  181635 non-null  float64\n",
            " 3   customer       181636 non-null  float64\n",
            " 4   country        181636 non-null  float64\n",
            " 5   status         181636 non-null  object \n",
            " 6   item type      181636 non-null  object \n",
            " 7   application    181636 non-null  float64\n",
            " 8   thickness      181636 non-null  float64\n",
            " 9   width          181636 non-null  float64\n",
            " 10  material_ref   81024 non-null   object \n",
            " 11  product_ref    181636 non-null  int64  \n",
            " 12  delivery date  181634 non-null  object \n",
            " 13  selling_price  181636 non-null  float64\n",
            "dtypes: float64(7), int64(1), object(6)\n",
            "memory usage: 20.8+ MB\n"
          ]
        }
      ]
    },
    {
      "cell_type": "code",
      "source": [
        "filtered_data['quantity tons'].fillna(filtered_data['quantity tons'].mode().iloc[0] , inplace=True)\n",
        "filtered_data = filtered_data[filtered_data['item_date'].notnull() &\n",
        "                              filtered_data['delivery date'].notnull()\n",
        "                              ]\n",
        "filtered_data = filtered_data[filtered_data['quantity tons']>0]\n",
        "filtered_data = filtered_data[filtered_data['selling_price']>0]\n",
        "filtered_data.info()"
      ],
      "metadata": {
        "colab": {
          "base_uri": "https://localhost:8080/"
        },
        "id": "DZxcW-mH6zHA",
        "outputId": "fa41bcb6-b209-406e-d4b8-ca30021617c9"
      },
      "execution_count": 7,
      "outputs": [
        {
          "output_type": "stream",
          "name": "stdout",
          "text": [
            "<class 'pandas.core.frame.DataFrame'>\n",
            "Int64Index: 181620 entries, 0 to 181672\n",
            "Data columns (total 14 columns):\n",
            " #   Column         Non-Null Count   Dtype  \n",
            "---  ------         --------------   -----  \n",
            " 0   id             181620 non-null  object \n",
            " 1   item_date      181620 non-null  object \n",
            " 2   quantity tons  181620 non-null  float64\n",
            " 3   customer       181620 non-null  float64\n",
            " 4   country        181620 non-null  float64\n",
            " 5   status         181620 non-null  object \n",
            " 6   item type      181620 non-null  object \n",
            " 7   application    181620 non-null  float64\n",
            " 8   thickness      181620 non-null  float64\n",
            " 9   width          181620 non-null  float64\n",
            " 10  material_ref   81021 non-null   object \n",
            " 11  product_ref    181620 non-null  int64  \n",
            " 12  delivery date  181620 non-null  object \n",
            " 13  selling_price  181620 non-null  float64\n",
            "dtypes: float64(7), int64(1), object(6)\n",
            "memory usage: 20.8+ MB\n"
          ]
        }
      ]
    },
    {
      "cell_type": "code",
      "source": [
        "final_data = filtered_data[['quantity tons','country','item type','application','thickness','width','material_ref','product_ref','status','selling_price','customer']]\n",
        "\n",
        "cols=final_data.columns\n",
        "\n",
        "for col in cols:\n",
        "    print('Total Unique ['+ col + '] = ' + str(len(final_data[col].unique())))\n",
        "\n",
        "print('DataFrame size' , (final_data.shape))"
      ],
      "metadata": {
        "colab": {
          "base_uri": "https://localhost:8080/"
        },
        "id": "rol-nVXg-qIp",
        "outputId": "62f269b5-3443-4377-f668-8c7ce937f3f8"
      },
      "execution_count": 8,
      "outputs": [
        {
          "output_type": "stream",
          "name": "stdout",
          "text": [
            "Total Unique [quantity tons] = 181620\n",
            "Total Unique [country] = 17\n",
            "Total Unique [item type] = 7\n",
            "Total Unique [application] = 30\n",
            "Total Unique [thickness] = 593\n",
            "Total Unique [width] = 1386\n",
            "Total Unique [material_ref] = 11496\n",
            "Total Unique [product_ref] = 33\n",
            "Total Unique [status] = 9\n",
            "Total Unique [selling_price] = 9789\n",
            "Total Unique [customer] = 1167\n",
            "DataFrame size (181620, 11)\n"
          ]
        }
      ]
    },
    {
      "cell_type": "code",
      "source": [
        "final_data['quantity adjusted'] = np.log(final_data['quantity tons'])\n",
        "plt.hist(final_data['quantity adjusted'],bins=50)\n",
        "plt.show()\n",
        "\n",
        "final_data['selling_price_converted'] = np.log(final_data['selling_price'])\n",
        "plt.hist(final_data['selling_price_converted'],bins=100)\n",
        "plt.show()\n",
        "\n",
        "final_data['customer converted'] = np.log(final_data['customer'])"
      ],
      "metadata": {
        "colab": {
          "base_uri": "https://localhost:8080/",
          "height": 843
        },
        "id": "pEnMV3jp6ZHQ",
        "outputId": "40af0259-fc8b-4b16-fd50-2bcd8fbebacb"
      },
      "execution_count": 9,
      "outputs": [
        {
          "output_type": "display_data",
          "data": {
            "text/plain": [
              "<Figure size 640x480 with 1 Axes>"
            ],
            "image/png": "[encoded data removed]"
          },
          "metadata": {}
        },
        {
          "output_type": "display_data",
          "data": {
            "text/plain": [
              "<Figure size 640x480 with 1 Axes>"
            ],
            "image/png": "[encoded data removed]"
          },
          "metadata": {}
        }
      ]
    },
    {
      "cell_type": "code",
      "source": [
        "plt.hist(final_data['thickness'],bins=100)\n",
        "plt.show()"
      ],
      "metadata": {
        "colab": {
          "base_uri": "https://localhost:8080/",
          "height": 435
        },
        "id": "4zvOwIOZA8Ey",
        "outputId": "3f98800d-5d9c-4b5f-b764-317b2f3dfb66"
      },
      "execution_count": 10,
      "outputs": [
        {
          "output_type": "display_data",
          "data": {
            "text/plain": [
              "<Figure size 640x480 with 1 Axes>"
            ],
            "image/png": "[encoded data removed]"
          },
          "metadata": {}
        }
      ]
    },
    {
      "cell_type": "code",
      "source": [
        "plt.hist(final_data['width'])\n",
        "plt.show()"
      ],
      "metadata": {
        "colab": {
          "base_uri": "https://localhost:8080/",
          "height": 430
        },
        "id": "ct_hOJc0BTQA",
        "outputId": "f5506a65-eed1-4abc-8438-578ad2d48831"
      },
      "execution_count": 11,
      "outputs": [
        {
          "output_type": "display_data",
          "data": {
            "text/plain": [
              "<Figure size 640x480 with 1 Axes>"
            ],
            "image/png": "[encoded data removed]"
          },
          "metadata": {}
        }
      ]
    },
    {
      "cell_type": "code",
      "source": [
        "final_data.info()"
      ],
      "metadata": {
        "colab": {
          "base_uri": "https://localhost:8080/"
        },
        "id": "iDiLy0oTHUKR",
        "outputId": "d1f607b4-d1ed-4e81-cb44-fd0ce5d91d2d"
      },
      "execution_count": 12,
      "outputs": [
        {
          "output_type": "stream",
          "name": "stdout",
          "text": [
            "<class 'pandas.core.frame.DataFrame'>\n",
            "Int64Index: 181620 entries, 0 to 181672\n",
            "Data columns (total 14 columns):\n",
            " #   Column                   Non-Null Count   Dtype  \n",
            "---  ------                   --------------   -----  \n",
            " 0   quantity tons            181620 non-null  float64\n",
            " 1   country                  181620 non-null  float64\n",
            " 2   item type                181620 non-null  object \n",
            " 3   application              181620 non-null  float64\n",
            " 4   thickness                181620 non-null  float64\n",
            " 5   width                    181620 non-null  float64\n",
            " 6   material_ref             81021 non-null   object \n",
            " 7   product_ref              181620 non-null  int64  \n",
            " 8   status                   181620 non-null  object \n",
            " 9   selling_price            181620 non-null  float64\n",
            " 10  customer                 181620 non-null  float64\n",
            " 11  quantity adjusted        181620 non-null  float64\n",
            " 12  selling_price_converted  181620 non-null  float64\n",
            " 13  customer converted       181620 non-null  float64\n",
            "dtypes: float64(10), int64(1), object(3)\n",
            "memory usage: 20.8+ MB\n"
          ]
        }
      ]
    },
    {
      "cell_type": "code",
      "source": [
        "X=final_data[['quantity adjusted','width','thickness','country','item type','application','product_ref','customer converted']]\n",
        "Y1=final_data['selling_price_converted']\n",
        "Y2=final_data['status']"
      ],
      "metadata": {
        "id": "5S0AJsgrOxbN"
      },
      "execution_count": 13,
      "outputs": []
    },
    {
      "cell_type": "code",
      "source": [
        "from sklearn.compose import ColumnTransformer\n",
        "from sklearn.preprocessing import OneHotEncoder"
      ],
      "metadata": {
        "id": "GGYI6RqiRvZN"
      },
      "execution_count": 14,
      "outputs": []
    },
    {
      "cell_type": "code",
      "source": [
        "Encoder_X = ColumnTransformer(\n",
        "    [('onehot', OneHotEncoder(), ['item type'])],\n",
        "    remainder='passthrough'\n",
        ")\n",
        "\n",
        "Encoder_Y2 = ColumnTransformer(\n",
        "    [('onehot', OneHotEncoder(), ['status'])],\n",
        "    remainder='passthrough'\n",
        ")"
      ],
      "metadata": {
        "id": "s6frP89fR6xD"
      },
      "execution_count": 15,
      "outputs": []
    },
    {
      "cell_type": "code",
      "source": [
        "Encoder_X.fit(X)\n",
        "Encoder_Y2.fit(pd.DataFrame(Y2))\n",
        "X_encoded = Encoder_X.transform(X)\n",
        "Y2_encoded = pd.DataFrame(Encoder_Y2.transform(pd.DataFrame(Y2)).toarray())\n",
        "\n",
        "X_expanded = pd.DataFrame(X_encoded)\n",
        "\n",
        "scaler = StandardScaler()\n",
        "scaler.fit(X_expanded)\n",
        "\n",
        "X_scaled = pd.DataFrame(scaler.transform(X_expanded))"
      ],
      "metadata": {
        "id": "w2BKMB5JSnfw"
      },
      "execution_count": 16,
      "outputs": []
    }
  ]
}